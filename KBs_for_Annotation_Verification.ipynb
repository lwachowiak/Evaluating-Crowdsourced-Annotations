{
  "nbformat": 4,
  "nbformat_minor": 0,
  "metadata": {
    "colab": {
      "name": "KBs for Annotation Verification",
      "provenance": [],
      "collapsed_sections": [],
      "authorship_tag": "ABX9TyOnKs8sHa09YZZXFArX1uxZ",
      "include_colab_link": true
    },
    "kernelspec": {
      "name": "python3",
      "display_name": "Python 3"
    },
    "language_info": {
      "name": "python"
    },
    "widgets": {
      "application/vnd.jupyter.widget-state+json": {
        "d5734a60f3864ba1bce7e022764f45c2": {
          "model_module": "@jupyter-widgets/controls",
          "model_name": "HBoxModel",
          "model_module_version": "1.5.0",
          "state": {
            "_dom_classes": [],
            "_model_module": "@jupyter-widgets/controls",
            "_model_module_version": "1.5.0",
            "_model_name": "HBoxModel",
            "_view_count": null,
            "_view_module": "@jupyter-widgets/controls",
            "_view_module_version": "1.5.0",
            "_view_name": "HBoxView",
            "box_style": "",
            "children": [
              "IPY_MODEL_0f3835fe23a6425895ebacd6e7fcb3a3",
              "IPY_MODEL_cba1b1b321eb4ddcb1a0e3dec658c460",
              "IPY_MODEL_56c457fd26ce4bfc9b5403216c30954c"
            ],
            "layout": "IPY_MODEL_7a05cd674dd04d81831ae98c57ac9f60"
          }
        },
        "0f3835fe23a6425895ebacd6e7fcb3a3": {
          "model_module": "@jupyter-widgets/controls",
          "model_name": "HTMLModel",
          "model_module_version": "1.5.0",
          "state": {
            "_dom_classes": [],
            "_model_module": "@jupyter-widgets/controls",
            "_model_module_version": "1.5.0",
            "_model_name": "HTMLModel",
            "_view_count": null,
            "_view_module": "@jupyter-widgets/controls",
            "_view_module_version": "1.5.0",
            "_view_name": "HTMLView",
            "description": "",
            "description_tooltip": null,
            "layout": "IPY_MODEL_5fcbfe24cc55480b8a0f6e3ae098c7e9",
            "placeholder": "​",
            "style": "IPY_MODEL_ddc46bed459c4155b2106a85c3f6d35e",
            "value": "Downloading https://raw.githubusercontent.com/stanfordnlp/stanza-resources/main/resources_1.4.0.json: "
          }
        },
        "cba1b1b321eb4ddcb1a0e3dec658c460": {
          "model_module": "@jupyter-widgets/controls",
          "model_name": "FloatProgressModel",
          "model_module_version": "1.5.0",
          "state": {
            "_dom_classes": [],
            "_model_module": "@jupyter-widgets/controls",
            "_model_module_version": "1.5.0",
            "_model_name": "FloatProgressModel",
            "_view_count": null,
            "_view_module": "@jupyter-widgets/controls",
            "_view_module_version": "1.5.0",
            "_view_name": "ProgressView",
            "bar_style": "success",
            "description": "",
            "description_tooltip": null,
            "layout": "IPY_MODEL_a65a989bd9644c818d903544a29cc1a7",
            "max": 26075,
            "min": 0,
            "orientation": "horizontal",
            "style": "IPY_MODEL_be0edb8be7c04ed7971117299d5f147c",
            "value": 26075
          }
        },
        "56c457fd26ce4bfc9b5403216c30954c": {
          "model_module": "@jupyter-widgets/controls",
          "model_name": "HTMLModel",
          "model_module_version": "1.5.0",
          "state": {
            "_dom_classes": [],
            "_model_module": "@jupyter-widgets/controls",
            "_model_module_version": "1.5.0",
            "_model_name": "HTMLModel",
            "_view_count": null,
            "_view_module": "@jupyter-widgets/controls",
            "_view_module_version": "1.5.0",
            "_view_name": "HTMLView",
            "description": "",
            "description_tooltip": null,
            "layout": "IPY_MODEL_9df113b93827497d8768266cf1b807f0",
            "placeholder": "​",
            "style": "IPY_MODEL_2848ac4d17b24260b6887d26cd323020",
            "value": " 156k/? [00:00&lt;00:00, 1.77MB/s]"
          }
        },
        "7a05cd674dd04d81831ae98c57ac9f60": {
          "model_module": "@jupyter-widgets/base",
          "model_name": "LayoutModel",
          "model_module_version": "1.2.0",
          "state": {
            "_model_module": "@jupyter-widgets/base",
            "_model_module_version": "1.2.0",
            "_model_name": "LayoutModel",
            "_view_count": null,
            "_view_module": "@jupyter-widgets/base",
            "_view_module_version": "1.2.0",
            "_view_name": "LayoutView",
            "align_content": null,
            "align_items": null,
            "align_self": null,
            "border": null,
            "bottom": null,
            "display": null,
            "flex": null,
            "flex_flow": null,
            "grid_area": null,
            "grid_auto_columns": null,
            "grid_auto_flow": null,
            "grid_auto_rows": null,
            "grid_column": null,
            "grid_gap": null,
            "grid_row": null,
            "grid_template_areas": null,
            "grid_template_columns": null,
            "grid_template_rows": null,
            "height": null,
            "justify_content": null,
            "justify_items": null,
            "left": null,
            "margin": null,
            "max_height": null,
            "max_width": null,
            "min_height": null,
            "min_width": null,
            "object_fit": null,
            "object_position": null,
            "order": null,
            "overflow": null,
            "overflow_x": null,
            "overflow_y": null,
            "padding": null,
            "right": null,
            "top": null,
            "visibility": null,
            "width": null
          }
        },
        "5fcbfe24cc55480b8a0f6e3ae098c7e9": {
          "model_module": "@jupyter-widgets/base",
          "model_name": "LayoutModel",
          "model_module_version": "1.2.0",
          "state": {
            "_model_module": "@jupyter-widgets/base",
            "_model_module_version": "1.2.0",
            "_model_name": "LayoutModel",
            "_view_count": null,
            "_view_module": "@jupyter-widgets/base",
            "_view_module_version": "1.2.0",
            "_view_name": "LayoutView",
            "align_content": null,
            "align_items": null,
            "align_self": null,
            "border": null,
            "bottom": null,
            "display": null,
            "flex": null,
            "flex_flow": null,
            "grid_area": null,
            "grid_auto_columns": null,
            "grid_auto_flow": null,
            "grid_auto_rows": null,
            "grid_column": null,
            "grid_gap": null,
            "grid_row": null,
            "grid_template_areas": null,
            "grid_template_columns": null,
            "grid_template_rows": null,
            "height": null,
            "justify_content": null,
            "justify_items": null,
            "left": null,
            "margin": null,
            "max_height": null,
            "max_width": null,
            "min_height": null,
            "min_width": null,
            "object_fit": null,
            "object_position": null,
            "order": null,
            "overflow": null,
            "overflow_x": null,
            "overflow_y": null,
            "padding": null,
            "right": null,
            "top": null,
            "visibility": null,
            "width": null
          }
        },
        "ddc46bed459c4155b2106a85c3f6d35e": {
          "model_module": "@jupyter-widgets/controls",
          "model_name": "DescriptionStyleModel",
          "model_module_version": "1.5.0",
          "state": {
            "_model_module": "@jupyter-widgets/controls",
            "_model_module_version": "1.5.0",
            "_model_name": "DescriptionStyleModel",
            "_view_count": null,
            "_view_module": "@jupyter-widgets/base",
            "_view_module_version": "1.2.0",
            "_view_name": "StyleView",
            "description_width": ""
          }
        },
        "a65a989bd9644c818d903544a29cc1a7": {
          "model_module": "@jupyter-widgets/base",
          "model_name": "LayoutModel",
          "model_module_version": "1.2.0",
          "state": {
            "_model_module": "@jupyter-widgets/base",
            "_model_module_version": "1.2.0",
            "_model_name": "LayoutModel",
            "_view_count": null,
            "_view_module": "@jupyter-widgets/base",
            "_view_module_version": "1.2.0",
            "_view_name": "LayoutView",
            "align_content": null,
            "align_items": null,
            "align_self": null,
            "border": null,
            "bottom": null,
            "display": null,
            "flex": null,
            "flex_flow": null,
            "grid_area": null,
            "grid_auto_columns": null,
            "grid_auto_flow": null,
            "grid_auto_rows": null,
            "grid_column": null,
            "grid_gap": null,
            "grid_row": null,
            "grid_template_areas": null,
            "grid_template_columns": null,
            "grid_template_rows": null,
            "height": null,
            "justify_content": null,
            "justify_items": null,
            "left": null,
            "margin": null,
            "max_height": null,
            "max_width": null,
            "min_height": null,
            "min_width": null,
            "object_fit": null,
            "object_position": null,
            "order": null,
            "overflow": null,
            "overflow_x": null,
            "overflow_y": null,
            "padding": null,
            "right": null,
            "top": null,
            "visibility": null,
            "width": null
          }
        },
        "be0edb8be7c04ed7971117299d5f147c": {
          "model_module": "@jupyter-widgets/controls",
          "model_name": "ProgressStyleModel",
          "model_module_version": "1.5.0",
          "state": {
            "_model_module": "@jupyter-widgets/controls",
            "_model_module_version": "1.5.0",
            "_model_name": "ProgressStyleModel",
            "_view_count": null,
            "_view_module": "@jupyter-widgets/base",
            "_view_module_version": "1.2.0",
            "_view_name": "StyleView",
            "bar_color": null,
            "description_width": ""
          }
        },
        "9df113b93827497d8768266cf1b807f0": {
          "model_module": "@jupyter-widgets/base",
          "model_name": "LayoutModel",
          "model_module_version": "1.2.0",
          "state": {
            "_model_module": "@jupyter-widgets/base",
            "_model_module_version": "1.2.0",
            "_model_name": "LayoutModel",
            "_view_count": null,
            "_view_module": "@jupyter-widgets/base",
            "_view_module_version": "1.2.0",
            "_view_name": "LayoutView",
            "align_content": null,
            "align_items": null,
            "align_self": null,
            "border": null,
            "bottom": null,
            "display": null,
            "flex": null,
            "flex_flow": null,
            "grid_area": null,
            "grid_auto_columns": null,
            "grid_auto_flow": null,
            "grid_auto_rows": null,
            "grid_column": null,
            "grid_gap": null,
            "grid_row": null,
            "grid_template_areas": null,
            "grid_template_columns": null,
            "grid_template_rows": null,
            "height": null,
            "justify_content": null,
            "justify_items": null,
            "left": null,
            "margin": null,
            "max_height": null,
            "max_width": null,
            "min_height": null,
            "min_width": null,
            "object_fit": null,
            "object_position": null,
            "order": null,
            "overflow": null,
            "overflow_x": null,
            "overflow_y": null,
            "padding": null,
            "right": null,
            "top": null,
            "visibility": null,
            "width": null
          }
        },
        "2848ac4d17b24260b6887d26cd323020": {
          "model_module": "@jupyter-widgets/controls",
          "model_name": "DescriptionStyleModel",
          "model_module_version": "1.5.0",
          "state": {
            "_model_module": "@jupyter-widgets/controls",
            "_model_module_version": "1.5.0",
            "_model_name": "DescriptionStyleModel",
            "_view_count": null,
            "_view_module": "@jupyter-widgets/base",
            "_view_module_version": "1.2.0",
            "_view_name": "StyleView",
            "description_width": ""
          }
        },
        "2084386c2d494027bade13f8125158b3": {
          "model_module": "@jupyter-widgets/controls",
          "model_name": "HBoxModel",
          "model_module_version": "1.5.0",
          "state": {
            "_dom_classes": [],
            "_model_module": "@jupyter-widgets/controls",
            "_model_module_version": "1.5.0",
            "_model_name": "HBoxModel",
            "_view_count": null,
            "_view_module": "@jupyter-widgets/controls",
            "_view_module_version": "1.5.0",
            "_view_name": "HBoxView",
            "box_style": "",
            "children": [
              "IPY_MODEL_c045382e5ff141f0924ff295b255a8b1",
              "IPY_MODEL_c93970cfb63f4828a425570d67c27b11",
              "IPY_MODEL_0042714798094c8683232b3ebe803f47"
            ],
            "layout": "IPY_MODEL_09e17ccd2b5144df99429ab687e8bc71"
          }
        },
        "c045382e5ff141f0924ff295b255a8b1": {
          "model_module": "@jupyter-widgets/controls",
          "model_name": "HTMLModel",
          "model_module_version": "1.5.0",
          "state": {
            "_dom_classes": [],
            "_model_module": "@jupyter-widgets/controls",
            "_model_module_version": "1.5.0",
            "_model_name": "HTMLModel",
            "_view_count": null,
            "_view_module": "@jupyter-widgets/controls",
            "_view_module_version": "1.5.0",
            "_view_name": "HTMLView",
            "description": "",
            "description_tooltip": null,
            "layout": "IPY_MODEL_bb044da3b7054e2cb462920508adc543",
            "placeholder": "​",
            "style": "IPY_MODEL_01a062d3146d47c7b2f9576173b6baa5",
            "value": "Downloading https://raw.githubusercontent.com/stanfordnlp/stanza-resources/main/resources_1.4.0.json: "
          }
        },
        "c93970cfb63f4828a425570d67c27b11": {
          "model_module": "@jupyter-widgets/controls",
          "model_name": "FloatProgressModel",
          "model_module_version": "1.5.0",
          "state": {
            "_dom_classes": [],
            "_model_module": "@jupyter-widgets/controls",
            "_model_module_version": "1.5.0",
            "_model_name": "FloatProgressModel",
            "_view_count": null,
            "_view_module": "@jupyter-widgets/controls",
            "_view_module_version": "1.5.0",
            "_view_name": "ProgressView",
            "bar_style": "success",
            "description": "",
            "description_tooltip": null,
            "layout": "IPY_MODEL_e9cba57be6264e0ebf097dbc38b3b600",
            "max": 26075,
            "min": 0,
            "orientation": "horizontal",
            "style": "IPY_MODEL_1cb564cdf01346239c2af044573c400b",
            "value": 26075
          }
        },
        "0042714798094c8683232b3ebe803f47": {
          "model_module": "@jupyter-widgets/controls",
          "model_name": "HTMLModel",
          "model_module_version": "1.5.0",
          "state": {
            "_dom_classes": [],
            "_model_module": "@jupyter-widgets/controls",
            "_model_module_version": "1.5.0",
            "_model_name": "HTMLModel",
            "_view_count": null,
            "_view_module": "@jupyter-widgets/controls",
            "_view_module_version": "1.5.0",
            "_view_name": "HTMLView",
            "description": "",
            "description_tooltip": null,
            "layout": "IPY_MODEL_3b504ca987d84c8989a759491e96f4c4",
            "placeholder": "​",
            "style": "IPY_MODEL_4c640b8bd0c7408cb45cb8f1119ee1c8",
            "value": " 156k/? [00:00&lt;00:00, 1.25MB/s]"
          }
        },
        "09e17ccd2b5144df99429ab687e8bc71": {
          "model_module": "@jupyter-widgets/base",
          "model_name": "LayoutModel",
          "model_module_version": "1.2.0",
          "state": {
            "_model_module": "@jupyter-widgets/base",
            "_model_module_version": "1.2.0",
            "_model_name": "LayoutModel",
            "_view_count": null,
            "_view_module": "@jupyter-widgets/base",
            "_view_module_version": "1.2.0",
            "_view_name": "LayoutView",
            "align_content": null,
            "align_items": null,
            "align_self": null,
            "border": null,
            "bottom": null,
            "display": null,
            "flex": null,
            "flex_flow": null,
            "grid_area": null,
            "grid_auto_columns": null,
            "grid_auto_flow": null,
            "grid_auto_rows": null,
            "grid_column": null,
            "grid_gap": null,
            "grid_row": null,
            "grid_template_areas": null,
            "grid_template_columns": null,
            "grid_template_rows": null,
            "height": null,
            "justify_content": null,
            "justify_items": null,
            "left": null,
            "margin": null,
            "max_height": null,
            "max_width": null,
            "min_height": null,
            "min_width": null,
            "object_fit": null,
            "object_position": null,
            "order": null,
            "overflow": null,
            "overflow_x": null,
            "overflow_y": null,
            "padding": null,
            "right": null,
            "top": null,
            "visibility": null,
            "width": null
          }
        },
        "bb044da3b7054e2cb462920508adc543": {
          "model_module": "@jupyter-widgets/base",
          "model_name": "LayoutModel",
          "model_module_version": "1.2.0",
          "state": {
            "_model_module": "@jupyter-widgets/base",
            "_model_module_version": "1.2.0",
            "_model_name": "LayoutModel",
            "_view_count": null,
            "_view_module": "@jupyter-widgets/base",
            "_view_module_version": "1.2.0",
            "_view_name": "LayoutView",
            "align_content": null,
            "align_items": null,
            "align_self": null,
            "border": null,
            "bottom": null,
            "display": null,
            "flex": null,
            "flex_flow": null,
            "grid_area": null,
            "grid_auto_columns": null,
            "grid_auto_flow": null,
            "grid_auto_rows": null,
            "grid_column": null,
            "grid_gap": null,
            "grid_row": null,
            "grid_template_areas": null,
            "grid_template_columns": null,
            "grid_template_rows": null,
            "height": null,
            "justify_content": null,
            "justify_items": null,
            "left": null,
            "margin": null,
            "max_height": null,
            "max_width": null,
            "min_height": null,
            "min_width": null,
            "object_fit": null,
            "object_position": null,
            "order": null,
            "overflow": null,
            "overflow_x": null,
            "overflow_y": null,
            "padding": null,
            "right": null,
            "top": null,
            "visibility": null,
            "width": null
          }
        },
        "01a062d3146d47c7b2f9576173b6baa5": {
          "model_module": "@jupyter-widgets/controls",
          "model_name": "DescriptionStyleModel",
          "model_module_version": "1.5.0",
          "state": {
            "_model_module": "@jupyter-widgets/controls",
            "_model_module_version": "1.5.0",
            "_model_name": "DescriptionStyleModel",
            "_view_count": null,
            "_view_module": "@jupyter-widgets/base",
            "_view_module_version": "1.2.0",
            "_view_name": "StyleView",
            "description_width": ""
          }
        },
        "e9cba57be6264e0ebf097dbc38b3b600": {
          "model_module": "@jupyter-widgets/base",
          "model_name": "LayoutModel",
          "model_module_version": "1.2.0",
          "state": {
            "_model_module": "@jupyter-widgets/base",
            "_model_module_version": "1.2.0",
            "_model_name": "LayoutModel",
            "_view_count": null,
            "_view_module": "@jupyter-widgets/base",
            "_view_module_version": "1.2.0",
            "_view_name": "LayoutView",
            "align_content": null,
            "align_items": null,
            "align_self": null,
            "border": null,
            "bottom": null,
            "display": null,
            "flex": null,
            "flex_flow": null,
            "grid_area": null,
            "grid_auto_columns": null,
            "grid_auto_flow": null,
            "grid_auto_rows": null,
            "grid_column": null,
            "grid_gap": null,
            "grid_row": null,
            "grid_template_areas": null,
            "grid_template_columns": null,
            "grid_template_rows": null,
            "height": null,
            "justify_content": null,
            "justify_items": null,
            "left": null,
            "margin": null,
            "max_height": null,
            "max_width": null,
            "min_height": null,
            "min_width": null,
            "object_fit": null,
            "object_position": null,
            "order": null,
            "overflow": null,
            "overflow_x": null,
            "overflow_y": null,
            "padding": null,
            "right": null,
            "top": null,
            "visibility": null,
            "width": null
          }
        },
        "1cb564cdf01346239c2af044573c400b": {
          "model_module": "@jupyter-widgets/controls",
          "model_name": "ProgressStyleModel",
          "model_module_version": "1.5.0",
          "state": {
            "_model_module": "@jupyter-widgets/controls",
            "_model_module_version": "1.5.0",
            "_model_name": "ProgressStyleModel",
            "_view_count": null,
            "_view_module": "@jupyter-widgets/base",
            "_view_module_version": "1.2.0",
            "_view_name": "StyleView",
            "bar_color": null,
            "description_width": ""
          }
        },
        "3b504ca987d84c8989a759491e96f4c4": {
          "model_module": "@jupyter-widgets/base",
          "model_name": "LayoutModel",
          "model_module_version": "1.2.0",
          "state": {
            "_model_module": "@jupyter-widgets/base",
            "_model_module_version": "1.2.0",
            "_model_name": "LayoutModel",
            "_view_count": null,
            "_view_module": "@jupyter-widgets/base",
            "_view_module_version": "1.2.0",
            "_view_name": "LayoutView",
            "align_content": null,
            "align_items": null,
            "align_self": null,
            "border": null,
            "bottom": null,
            "display": null,
            "flex": null,
            "flex_flow": null,
            "grid_area": null,
            "grid_auto_columns": null,
            "grid_auto_flow": null,
            "grid_auto_rows": null,
            "grid_column": null,
            "grid_gap": null,
            "grid_row": null,
            "grid_template_areas": null,
            "grid_template_columns": null,
            "grid_template_rows": null,
            "height": null,
            "justify_content": null,
            "justify_items": null,
            "left": null,
            "margin": null,
            "max_height": null,
            "max_width": null,
            "min_height": null,
            "min_width": null,
            "object_fit": null,
            "object_position": null,
            "order": null,
            "overflow": null,
            "overflow_x": null,
            "overflow_y": null,
            "padding": null,
            "right": null,
            "top": null,
            "visibility": null,
            "width": null
          }
        },
        "4c640b8bd0c7408cb45cb8f1119ee1c8": {
          "model_module": "@jupyter-widgets/controls",
          "model_name": "DescriptionStyleModel",
          "model_module_version": "1.5.0",
          "state": {
            "_model_module": "@jupyter-widgets/controls",
            "_model_module_version": "1.5.0",
            "_model_name": "DescriptionStyleModel",
            "_view_count": null,
            "_view_module": "@jupyter-widgets/base",
            "_view_module_version": "1.2.0",
            "_view_name": "StyleView",
            "description_width": ""
          }
        }
      }
    }
  },
  "cells": [
    {
      "cell_type": "markdown",
      "metadata": {
        "id": "view-in-github",
        "colab_type": "text"
      },
      "source": [
        "<a href=\"https://colab.research.google.com/github/lwachowiak/Evaluating-Crowdsourced-Annotations/blob/main/KBs_for_Annotation_Verification.ipynb\" target=\"_parent\"><img src=\"https://colab.research.google.com/assets/colab-badge.svg\" alt=\"Open In Colab\"/></a>"
      ]
    },
    {
      "cell_type": "markdown",
      "source": [
        "# Yago and DBpedia"
      ],
      "metadata": {
        "id": "P9n2KE5ZVb4D"
      }
    },
    {
      "cell_type": "markdown",
      "source": [
        "How to query Yago and DBpedia to learn more about extracted terms, find relations between them, and verify their correctness "
      ],
      "metadata": {
        "id": "_qBI1fkOYHJ6"
      }
    },
    {
      "cell_type": "code",
      "source": [
        "!pip install SPARQLWrapper"
      ],
      "metadata": {
        "id": "VW0TeuiH-nd_"
      },
      "execution_count": null,
      "outputs": []
    },
    {
      "cell_type": "code",
      "execution_count": 2,
      "metadata": {
        "id": "myBbADZ77g2e"
      },
      "outputs": [],
      "source": [
        "from SPARQLWrapper import SPARQLWrapper, JSON"
      ]
    },
    {
      "cell_type": "markdown",
      "source": [
        "DBpedia"
      ],
      "metadata": {
        "id": "EUFAlk4PY9iV"
      }
    },
    {
      "cell_type": "code",
      "source": [
        "def get_description_dbpedia(query):\n",
        "    sparql = SPARQLWrapper(\"http://dbpedia.org/sparql\") \n",
        "    sparql.setReturnFormat(JSON)\n",
        "    sparql.setQuery(query)  \n",
        "    return sparql.query().convert()"
      ],
      "metadata": {
        "id": "3_gssKN87ozh"
      },
      "execution_count": 4,
      "outputs": []
    },
    {
      "cell_type": "code",
      "source": [
        "# What city was C. Ronaldo born in? Funchal\n",
        "query=\"\"\"SELECT *\n",
        "WHERE\n",
        "{\n",
        "  ?athlete  rdfs:label      \"Cristiano Ronaldo\"@en ;\n",
        "            dbo:birthPlace  ?place .\n",
        "  ?place    a               dbo:City ;\n",
        "            rdfs:label      ?cityName .\n",
        "  FILTER ( LANG ( ?cityName ) = 'en' )\n",
        "}\"\"\"\n",
        "get_description_dbpedia(query)"
      ],
      "metadata": {
        "colab": {
          "base_uri": "https://localhost:8080/"
        },
        "id": "I72cgmV6IcbB",
        "outputId": "e1e38cdc-6792-4931-9b28-cb22e8cf6110"
      },
      "execution_count": 5,
      "outputs": [
        {
          "output_type": "execute_result",
          "data": {
            "text/plain": [
              "{'head': {'link': [], 'vars': ['athlete', 'place', 'cityName']},\n",
              " 'results': {'bindings': [{'athlete': {'type': 'uri',\n",
              "     'value': 'http://dbpedia.org/resource/Cristiano_Ronaldo'},\n",
              "    'cityName': {'type': 'literal', 'value': 'Funchal', 'xml:lang': 'en'},\n",
              "    'place': {'type': 'uri', 'value': 'http://dbpedia.org/resource/Funchal'}}],\n",
              "  'distinct': False,\n",
              "  'ordered': True}}"
            ]
          },
          "metadata": {},
          "execution_count": 5
        }
      ]
    },
    {
      "cell_type": "markdown",
      "source": [
        "Yago"
      ],
      "metadata": {
        "id": "vYnyj-O6ZPF4"
      }
    },
    {
      "cell_type": "code",
      "source": [
        "from SPARQLWrapper import SPARQLWrapper, JSON\n",
        "\n",
        "sparql = SPARQLWrapper(\"https://linkeddata1.calcul.u-psud.fr/sparql\")\n",
        "sparql.setQuery(\"\"\"\n",
        "    select  *\n",
        "where {\n",
        "        <http://yago-knowledge.org/resource/Elvis_Presley> ?property ?valueOrObject .\n",
        "      } \n",
        "LIMIT 100\"\"\")\n",
        "sparql.setReturnFormat(JSON)\n",
        "results = sparql.query().convert()\n",
        "\n",
        "results"
      ],
      "metadata": {
        "id": "DgQK2piLJyvH"
      },
      "execution_count": null,
      "outputs": []
    },
    {
      "cell_type": "code",
      "source": [
        "# asking for relation between to things\n",
        "# Here: What is the relation between Albert Einstein and Alfred Kleiner?\n",
        "from SPARQLWrapper import SPARQLWrapper, JSON\n",
        "\n",
        "sparql = SPARQLWrapper(\"https://linkeddata1.calcul.u-psud.fr/sparql\")\n",
        "sparql.setQuery(\"\"\"\n",
        "SELECT * WHERE { <http://yago-knowledge.org/resource/Albert_Einstein> ?relation <http://yago-knowledge.org/resource/Alfred_Kleiner> }\"\"\")\n",
        "sparql.setReturnFormat(JSON)\n",
        "results = sparql.query().convert()\n",
        "\n",
        "results"
      ],
      "metadata": {
        "colab": {
          "base_uri": "https://localhost:8080/"
        },
        "id": "MVf1pomYWe-P",
        "outputId": "fd35729c-f071-4960-a3b2-2f905472ef29"
      },
      "execution_count": null,
      "outputs": [
        {
          "output_type": "execute_result",
          "data": {
            "text/plain": [
              "{'head': {'link': [], 'vars': ['relation']},\n",
              " 'results': {'bindings': [{'relation': {'type': 'uri',\n",
              "     'value': 'http://yago-knowledge.org/resource/linksTo'}},\n",
              "   {'relation': {'type': 'uri',\n",
              "     'value': 'http://yago-knowledge.org/resource/hasAcademicAdvisor'}}],\n",
              "  'distinct': False,\n",
              "  'ordered': True}}"
            ]
          },
          "metadata": {},
          "execution_count": 100
        }
      ]
    },
    {
      "cell_type": "code",
      "source": [
        "# Often, no relations are found, e.g.: \n",
        "from SPARQLWrapper import SPARQLWrapper, JSON\n",
        "\n",
        "sparql = SPARQLWrapper(\"https://linkeddata1.calcul.u-psud.fr/sparql\")\n",
        "sparql.setQuery(\"\"\"\n",
        "SELECT * WHERE { <http://yago-knowledge.org/resource/Giraffe> ?relation <http://yago-knowledge.org/resource/yago:Northern_Giraffe> }\"\"\")\n",
        "sparql.setReturnFormat(JSON)\n",
        "results = sparql.query().convert()\n",
        "\n",
        "results"
      ],
      "metadata": {
        "colab": {
          "base_uri": "https://localhost:8080/"
        },
        "id": "qNMd6BoHW_NC",
        "outputId": "355b7bfd-8b69-4116-b5f6-6be627cf903d"
      },
      "execution_count": null,
      "outputs": [
        {
          "output_type": "execute_result",
          "data": {
            "text/plain": [
              "{'head': {'link': [], 'vars': ['relation']},\n",
              " 'results': {'bindings': [], 'distinct': False, 'ordered': True}}"
            ]
          },
          "metadata": {},
          "execution_count": 96
        }
      ]
    },
    {
      "cell_type": "markdown",
      "source": [
        "# ConceptNet "
      ],
      "metadata": {
        "id": "XP3PrzpE1-Nd"
      }
    },
    {
      "cell_type": "markdown",
      "source": [
        "How to use the ConceptNet to see how related 2 terms (relatedness score) and to extract a list of all existing relations between the terms"
      ],
      "metadata": {
        "id": "UYMfzMaIXBaX"
      }
    },
    {
      "cell_type": "code",
      "source": [
        "import requests"
      ],
      "metadata": {
        "id": "eR0RQvNV21O2"
      },
      "execution_count": null,
      "outputs": []
    },
    {
      "cell_type": "code",
      "source": [
        "obj = requests.get('http://api.conceptnet.io/c/en/vw_beetle').json()\n",
        "obj.keys() # all interesting data is saved in edges"
      ],
      "metadata": {
        "colab": {
          "base_uri": "https://localhost:8080/"
        },
        "id": "fYpV0obH24Nq",
        "outputId": "3a50d22c-2c2a-4168-c9c4-18ccfe3cf20e"
      },
      "execution_count": null,
      "outputs": [
        {
          "output_type": "execute_result",
          "data": {
            "text/plain": [
              "dict_keys(['@context', '@id', 'edges', 'version'])"
            ]
          },
          "metadata": {},
          "execution_count": 104
        }
      ]
    },
    {
      "cell_type": "code",
      "source": [
        "# number of relations found\n",
        "len(obj['edges'])"
      ],
      "metadata": {
        "colab": {
          "base_uri": "https://localhost:8080/"
        },
        "id": "vQFNVb0_29_L",
        "outputId": "9fbe88f6-90ec-4e29-9813-c2f609e25bbe"
      },
      "execution_count": null,
      "outputs": [
        {
          "output_type": "execute_result",
          "data": {
            "text/plain": [
              "2"
            ]
          },
          "metadata": {},
          "execution_count": 105
        }
      ]
    },
    {
      "cell_type": "code",
      "source": [
        "# one relation with 2 entities\n",
        "# the interesting info is saved in \"end\", \"rel\", \"start\"\n",
        "# there are 34 possible relations https://github.com/commonsense/conceptnet5/wiki/Relations\n",
        "# here we can learn that: a VW Beetle is a VW\n",
        "obj['edges'][0]"
      ],
      "metadata": {
        "colab": {
          "base_uri": "https://localhost:8080/"
        },
        "id": "xLluYEKE3m_q",
        "outputId": "aa42b566-cf5e-4189-d612-e55b935af8fe"
      },
      "execution_count": null,
      "outputs": [
        {
          "output_type": "execute_result",
          "data": {
            "text/plain": [
              "{'@id': '/a/[/r/IsA/,/c/en/vw_beetle/n/,/c/en/vw/n/]',\n",
              " '@type': 'Edge',\n",
              " 'dataset': '/d/opencyc',\n",
              " 'end': {'@id': '/c/en/vw/n',\n",
              "  '@type': 'Node',\n",
              "  'label': 'vw',\n",
              "  'language': 'en',\n",
              "  'sense_label': 'n',\n",
              "  'term': '/c/en/vw'},\n",
              " 'license': 'cc:by/4.0',\n",
              " 'rel': {'@id': '/r/IsA', '@type': 'Relation', 'label': 'IsA'},\n",
              " 'sources': [{'@id': '/s/resource/opencyc/2012',\n",
              "   '@type': 'Source',\n",
              "   'contributor': '/s/resource/opencyc/2012'}],\n",
              " 'start': {'@id': '/c/en/vw_beetle/n',\n",
              "  '@type': 'Node',\n",
              "  'label': 'vw beetle',\n",
              "  'language': 'en',\n",
              "  'sense_label': 'n',\n",
              "  'term': '/c/en/vw_beetle'},\n",
              " 'surfaceText': None,\n",
              " 'weight': 1.0}"
            ]
          },
          "metadata": {},
          "execution_count": 106
        }
      ]
    },
    {
      "cell_type": "code",
      "source": [
        "# check if any relations exist between 2 given concepts \n",
        "# What is the relation between giraffe and animal? \"Is a\"\n",
        "obj = requests.get(\"https://api.conceptnet.io/query?node=/c/en/giraffe&other=/c/en/animal\").json()\n",
        "print(obj[\"edges\"][0][\"rel\"][\"label\"])\n",
        "obj[\"edges\"][0]"
      ],
      "metadata": {
        "colab": {
          "base_uri": "https://localhost:8080/"
        },
        "id": "zfPrRX8bIXwE",
        "outputId": "a653f401-b3af-418a-f5d1-60d4669498d6"
      },
      "execution_count": null,
      "outputs": [
        {
          "output_type": "stream",
          "name": "stdout",
          "text": [
            "IsA\n"
          ]
        },
        {
          "output_type": "execute_result",
          "data": {
            "text/plain": [
              "{'@id': '/a/[/r/IsA/,/c/en/giraffe/n/,/c/en/animal/]',\n",
              " '@type': 'Edge',\n",
              " 'dataset': '/d/wiktionary/de',\n",
              " 'end': {'@id': '/c/en/animal',\n",
              "  '@type': 'Node',\n",
              "  'label': 'animal',\n",
              "  'language': 'en',\n",
              "  'term': '/c/en/animal'},\n",
              " 'license': 'cc:by-sa/4.0',\n",
              " 'rel': {'@id': '/r/IsA', '@type': 'Relation', 'label': 'IsA'},\n",
              " 'sources': [{'@id': '/and/[/s/process/wikiparsec/2/,/s/resource/wiktionary/de/]',\n",
              "   '@type': 'Source',\n",
              "   'contributor': '/s/resource/wiktionary/de',\n",
              "   'process': '/s/process/wikiparsec/2'}],\n",
              " 'start': {'@id': '/c/en/giraffe/n',\n",
              "  '@type': 'Node',\n",
              "  'label': 'giraffe',\n",
              "  'language': 'en',\n",
              "  'sense_label': 'n',\n",
              "  'term': '/c/en/giraffe'},\n",
              " 'surfaceText': None,\n",
              " 'weight': 1.0}"
            ]
          },
          "metadata": {},
          "execution_count": 64
        }
      ]
    },
    {
      "cell_type": "code",
      "source": [
        "# What is the relation between seat and train? \"At location\"\n",
        "obj = requests.get(\"https://api.conceptnet.io/query?node=/c/en/seat&other=/c/en/train\").json()\n",
        "obj[\"edges\"]"
      ],
      "metadata": {
        "colab": {
          "base_uri": "https://localhost:8080/"
        },
        "id": "53j2R848QQER",
        "outputId": "19dc764d-492e-43d5-b9e5-96e550a009cc"
      },
      "execution_count": null,
      "outputs": [
        {
          "output_type": "execute_result",
          "data": {
            "text/plain": [
              "[{'@id': '/a/[/r/AtLocation/,/c/en/seat/,/c/en/train/]',\n",
              "  '@type': 'Edge',\n",
              "  'dataset': '/d/conceptnet/4/en',\n",
              "  'end': {'@id': '/c/en/train',\n",
              "   '@type': 'Node',\n",
              "   'label': 'a train',\n",
              "   'language': 'en',\n",
              "   'term': '/c/en/train'},\n",
              "  'license': 'cc:by/4.0',\n",
              "  'rel': {'@id': '/r/AtLocation', '@type': 'Relation', 'label': 'AtLocation'},\n",
              "  'sources': [{'@id': '/and/[/s/activity/omcs/omcs1_possibly_free_text/,/s/contributor/omcs/bedume/]',\n",
              "    '@type': 'Source',\n",
              "    'activity': '/s/activity/omcs/omcs1_possibly_free_text',\n",
              "    'contributor': '/s/contributor/omcs/bedume'}],\n",
              "  'start': {'@id': '/c/en/seat',\n",
              "   '@type': 'Node',\n",
              "   'label': 'a seat',\n",
              "   'language': 'en',\n",
              "   'term': '/c/en/seat'},\n",
              "  'surfaceText': 'You are likely to find [[a seat]] in [[a train]]',\n",
              "  'weight': 1.0},\n",
              " {'@id': '/a/[/r/RelatedTo/,/c/en/seat/,/c/en/train/]',\n",
              "  '@type': 'Edge',\n",
              "  'dataset': '/d/verbosity',\n",
              "  'end': {'@id': '/c/en/train',\n",
              "   '@type': 'Node',\n",
              "   'label': 'train',\n",
              "   'language': 'en',\n",
              "   'term': '/c/en/train'},\n",
              "  'license': 'cc:by/4.0',\n",
              "  'rel': {'@id': '/r/RelatedTo', '@type': 'Relation', 'label': 'RelatedTo'},\n",
              "  'sources': [{'@id': '/and/[/s/process/split_words/,/s/resource/verbosity/]',\n",
              "    '@type': 'Source',\n",
              "    'contributor': '/s/resource/verbosity',\n",
              "    'process': '/s/process/split_words'}],\n",
              "  'start': {'@id': '/c/en/seat',\n",
              "   '@type': 'Node',\n",
              "   'label': 'seat',\n",
              "   'language': 'en',\n",
              "   'term': '/c/en/seat'},\n",
              "  'surfaceText': '[[seat]] is related to [[train]]',\n",
              "  'weight': 0.22699999999999987}]"
            ]
          },
          "metadata": {},
          "execution_count": 103
        }
      ]
    },
    {
      "cell_type": "code",
      "source": [
        "# If no relation found, go with relatedness score \n",
        "# What is the relatedness score between food and giraffe?\n",
        "obj = requests.get(\"https://api.conceptnet.io/relatedness?node1=/c/en/giraffe&node2=/c/en/food\").json()\n",
        "obj[\"value\"]"
      ],
      "metadata": {
        "colab": {
          "base_uri": "https://localhost:8080/"
        },
        "id": "74zrJ36uImp3",
        "outputId": "1200a39a-3d8d-45ba-aadb-b04d2a76c420"
      },
      "execution_count": null,
      "outputs": [
        {
          "output_type": "execute_result",
          "data": {
            "text/plain": [
              "0.036"
            ]
          },
          "metadata": {},
          "execution_count": 33
        }
      ]
    },
    {
      "cell_type": "code",
      "source": [
        "obj = requests.get(\"https://api.conceptnet.io/relatedness?node1=/c/en/giraffe&node2=/c/en/mammal\").json()\n",
        "obj[\"value\"]"
      ],
      "metadata": {
        "colab": {
          "base_uri": "https://localhost:8080/"
        },
        "id": "iATfiAaIMIbU",
        "outputId": "d153186b-8c2a-488c-9182-0dab8d4813d3"
      },
      "execution_count": null,
      "outputs": [
        {
          "output_type": "execute_result",
          "data": {
            "text/plain": [
              "0.404"
            ]
          },
          "metadata": {},
          "execution_count": 34
        }
      ]
    },
    {
      "cell_type": "code",
      "source": [
        "obj = requests.get(\"https://api.conceptnet.io/relatedness?node1=/c/en/giraffe&node2=/c/en/lion\").json()\n",
        "obj[\"value\"]"
      ],
      "metadata": {
        "colab": {
          "base_uri": "https://localhost:8080/"
        },
        "id": "EfI-xSIsMQly",
        "outputId": "0e4cf68d-2f9b-4d39-95ed-49c1884d10b3"
      },
      "execution_count": null,
      "outputs": [
        {
          "output_type": "execute_result",
          "data": {
            "text/plain": [
              "0.36"
            ]
          },
          "metadata": {},
          "execution_count": 61
        }
      ]
    },
    {
      "cell_type": "code",
      "source": [
        "obj = requests.get(\"https://api.conceptnet.io/relatedness?node1=/c/en/giraffe&node2=/c/en/africa\").json()\n",
        "obj[\"value\"]"
      ],
      "metadata": {
        "colab": {
          "base_uri": "https://localhost:8080/"
        },
        "id": "p8XcGG9qMkJp",
        "outputId": "8fe11187-15a9-4d1c-c829-3d7198fc3f14"
      },
      "execution_count": null,
      "outputs": [
        {
          "output_type": "execute_result",
          "data": {
            "text/plain": [
              "0.326"
            ]
          },
          "metadata": {},
          "execution_count": 36
        }
      ]
    },
    {
      "cell_type": "code",
      "source": [
        "obj = requests.get(\"https://api.conceptnet.io/relatedness?node1=/c/en/vw_beetle&node2=/c/en/car\").json()\n",
        "obj[\"value\"]"
      ],
      "metadata": {
        "colab": {
          "base_uri": "https://localhost:8080/"
        },
        "id": "T_ups0hqMnQQ",
        "outputId": "8373c9a0-0d66-4c71-8abf-951417c282f4"
      },
      "execution_count": null,
      "outputs": [
        {
          "output_type": "execute_result",
          "data": {
            "text/plain": [
              "0.592"
            ]
          },
          "metadata": {},
          "execution_count": 101
        }
      ]
    },
    {
      "cell_type": "markdown",
      "source": [
        "# Term/NER/Noun Extraction"
      ],
      "metadata": {
        "id": "8CTu3WYtgpdA"
      }
    },
    {
      "cell_type": "markdown",
      "source": [
        "## NER "
      ],
      "metadata": {
        "id": "fGiw6-nllGr_"
      }
    },
    {
      "cell_type": "markdown",
      "source": [
        "An example of using the neural Stanford NLP library stanza for NER"
      ],
      "metadata": {
        "id": "4s5NbEw5WAx-"
      }
    },
    {
      "cell_type": "code",
      "source": [
        "!pip install stanza\n",
        "import stanza"
      ],
      "metadata": {
        "id": "15hjEEjsje9t"
      },
      "execution_count": null,
      "outputs": []
    },
    {
      "cell_type": "code",
      "source": [
        "nlp = stanza.Pipeline(lang='en', processors='tokenize,ner')\n",
        "doc = nlp(\"Max Mustermann teaches at Stanford University, he lives in the Bay Area and loves giraffes and tower bells.\")"
      ],
      "metadata": {
        "colab": {
          "base_uri": "https://localhost:8080/",
          "height": 253,
          "referenced_widgets": [
            "d5734a60f3864ba1bce7e022764f45c2",
            "0f3835fe23a6425895ebacd6e7fcb3a3",
            "cba1b1b321eb4ddcb1a0e3dec658c460",
            "56c457fd26ce4bfc9b5403216c30954c",
            "7a05cd674dd04d81831ae98c57ac9f60",
            "5fcbfe24cc55480b8a0f6e3ae098c7e9",
            "ddc46bed459c4155b2106a85c3f6d35e",
            "a65a989bd9644c818d903544a29cc1a7",
            "be0edb8be7c04ed7971117299d5f147c",
            "9df113b93827497d8768266cf1b807f0",
            "2848ac4d17b24260b6887d26cd323020"
          ]
        },
        "id": "nLrm5DGvguGn",
        "outputId": "b54a19aa-e459-4370-bbc2-620ecc3736c0"
      },
      "execution_count": 164,
      "outputs": [
        {
          "output_type": "display_data",
          "data": {
            "text/plain": [
              "Downloading https://raw.githubusercontent.com/stanfordnlp/stanza-resources/main/resources_1.4.0.json:   0%|   …"
            ],
            "application/vnd.jupyter.widget-view+json": {
              "version_major": 2,
              "version_minor": 0,
              "model_id": "d5734a60f3864ba1bce7e022764f45c2"
            }
          },
          "metadata": {}
        },
        {
          "output_type": "stream",
          "name": "stderr",
          "text": [
            "2022-05-05 15:38:29 INFO: Loading these models for language: en (English):\n",
            "=========================\n",
            "| Processor | Package   |\n",
            "-------------------------\n",
            "| tokenize  | combined  |\n",
            "| ner       | ontonotes |\n",
            "=========================\n",
            "\n",
            "2022-05-05 15:38:29 INFO: Use device: cpu\n",
            "2022-05-05 15:38:29 INFO: Loading: tokenize\n",
            "2022-05-05 15:38:29 INFO: Loading: ner\n",
            "2022-05-05 15:38:30 INFO: Done loading processors!\n"
          ]
        }
      ]
    },
    {
      "cell_type": "code",
      "source": [
        "print(*[f'entity: {ent.text}\\ttype: {ent.type}' for ent in doc.ents], sep='\\n')"
      ],
      "metadata": {
        "colab": {
          "base_uri": "https://localhost:8080/"
        },
        "id": "doXxIi2yjdrC",
        "outputId": "ef5ae041-30dc-4d03-9a61-b4684fea3943"
      },
      "execution_count": 165,
      "outputs": [
        {
          "output_type": "stream",
          "name": "stdout",
          "text": [
            "entity: Max Mustermann\ttype: PERSON\n",
            "entity: Stanford University\ttype: ORG\n",
            "entity: the Bay Area\ttype: LOC\n"
          ]
        }
      ]
    },
    {
      "cell_type": "markdown",
      "source": [
        "## All Nouns"
      ],
      "metadata": {
        "id": "lUejd9s5lJwE"
      }
    },
    {
      "cell_type": "markdown",
      "source": [
        "Here, we use the stanza dependency parser to extract all nouns & noun compounds"
      ],
      "metadata": {
        "id": "_qkwHUIRWfmE"
      }
    },
    {
      "cell_type": "code",
      "source": [
        "nlp = stanza.Pipeline(lang='en', processors='tokenize,mwt,pos,lemma,depparse')\n",
        "doc = nlp('Max Mustermann teaches at Stanford University, he lives in the Bay Area and loves giraffes and towers bells.')\n",
        "print(*[f'id: {word.id}\\tword: {word.text}\\thead id: {word.head}\\thead: {sent.words[word.head-1].text if word.head > 0 else \"root\"}\\tdeprel: {word.deprel}' for sent in doc.sentences for word in sent.words], sep='\\n')"
      ],
      "metadata": {
        "colab": {
          "base_uri": "https://localhost:8080/",
          "height": 678,
          "referenced_widgets": [
            "2084386c2d494027bade13f8125158b3",
            "c045382e5ff141f0924ff295b255a8b1",
            "c93970cfb63f4828a425570d67c27b11",
            "0042714798094c8683232b3ebe803f47",
            "09e17ccd2b5144df99429ab687e8bc71",
            "bb044da3b7054e2cb462920508adc543",
            "01a062d3146d47c7b2f9576173b6baa5",
            "e9cba57be6264e0ebf097dbc38b3b600",
            "1cb564cdf01346239c2af044573c400b",
            "3b504ca987d84c8989a759491e96f4c4",
            "4c640b8bd0c7408cb45cb8f1119ee1c8"
          ]
        },
        "id": "49BmrmbLkr8m",
        "outputId": "42c11c63-f42f-407d-f6f8-6ea313dfdf4a"
      },
      "execution_count": 166,
      "outputs": [
        {
          "output_type": "display_data",
          "data": {
            "text/plain": [
              "Downloading https://raw.githubusercontent.com/stanfordnlp/stanza-resources/main/resources_1.4.0.json:   0%|   …"
            ],
            "application/vnd.jupyter.widget-view+json": {
              "version_major": 2,
              "version_minor": 0,
              "model_id": "2084386c2d494027bade13f8125158b3"
            }
          },
          "metadata": {}
        },
        {
          "output_type": "stream",
          "name": "stderr",
          "text": [
            "2022-05-05 15:38:31 WARNING: Can not find mwt: default from official model list. Ignoring it.\n",
            "2022-05-05 15:38:32 INFO: Loading these models for language: en (English):\n",
            "========================\n",
            "| Processor | Package  |\n",
            "------------------------\n",
            "| tokenize  | combined |\n",
            "| pos       | combined |\n",
            "| lemma     | combined |\n",
            "| depparse  | combined |\n",
            "========================\n",
            "\n",
            "2022-05-05 15:38:32 INFO: Use device: cpu\n",
            "2022-05-05 15:38:32 INFO: Loading: tokenize\n",
            "2022-05-05 15:38:32 INFO: Loading: pos\n",
            "2022-05-05 15:38:32 INFO: Loading: lemma\n",
            "2022-05-05 15:38:33 INFO: Loading: depparse\n",
            "2022-05-05 15:38:33 INFO: Done loading processors!\n"
          ]
        },
        {
          "output_type": "stream",
          "name": "stdout",
          "text": [
            "id: 1\tword: Max\thead id: 3\thead: teaches\tdeprel: nsubj\n",
            "id: 2\tword: Mustermann\thead id: 1\thead: Max\tdeprel: flat\n",
            "id: 3\tword: teaches\thead id: 0\thead: root\tdeprel: root\n",
            "id: 4\tword: at\thead id: 6\thead: University\tdeprel: case\n",
            "id: 5\tword: Stanford\thead id: 6\thead: University\tdeprel: compound\n",
            "id: 6\tword: University\thead id: 3\thead: teaches\tdeprel: obl\n",
            "id: 7\tword: ,\thead id: 9\thead: lives\tdeprel: punct\n",
            "id: 8\tword: he\thead id: 9\thead: lives\tdeprel: nsubj\n",
            "id: 9\tword: lives\thead id: 3\thead: teaches\tdeprel: parataxis\n",
            "id: 10\tword: in\thead id: 13\thead: Area\tdeprel: case\n",
            "id: 11\tword: the\thead id: 13\thead: Area\tdeprel: det\n",
            "id: 12\tword: Bay\thead id: 13\thead: Area\tdeprel: compound\n",
            "id: 13\tword: Area\thead id: 9\thead: lives\tdeprel: obl\n",
            "id: 14\tword: and\thead id: 15\thead: loves\tdeprel: cc\n",
            "id: 15\tword: loves\thead id: 9\thead: lives\tdeprel: conj\n",
            "id: 16\tword: giraffes\thead id: 15\thead: loves\tdeprel: obj\n",
            "id: 17\tword: and\thead id: 19\thead: bells\tdeprel: cc\n",
            "id: 18\tword: towers\thead id: 19\thead: bells\tdeprel: compound\n",
            "id: 19\tword: bells\thead id: 16\thead: giraffes\tdeprel: conj\n",
            "id: 20\tword: .\thead id: 3\thead: teaches\tdeprel: punct\n"
          ]
        }
      ]
    },
    {
      "cell_type": "code",
      "source": [
        "doc"
      ],
      "metadata": {
        "colab": {
          "base_uri": "https://localhost:8080/"
        },
        "id": "JraQ5A67qEUJ",
        "outputId": "4ffb2191-3644-43e9-8be4-37f1d9d16e6f"
      },
      "execution_count": 167,
      "outputs": [
        {
          "output_type": "execute_result",
          "data": {
            "text/plain": [
              "[\n",
              "  [\n",
              "    {\n",
              "      \"id\": 1,\n",
              "      \"text\": \"Max\",\n",
              "      \"lemma\": \"Max\",\n",
              "      \"upos\": \"PROPN\",\n",
              "      \"xpos\": \"NNP\",\n",
              "      \"feats\": \"Number=Sing\",\n",
              "      \"head\": 3,\n",
              "      \"deprel\": \"nsubj\",\n",
              "      \"start_char\": 0,\n",
              "      \"end_char\": 3\n",
              "    },\n",
              "    {\n",
              "      \"id\": 2,\n",
              "      \"text\": \"Mustermann\",\n",
              "      \"lemma\": \"Mustermann\",\n",
              "      \"upos\": \"PROPN\",\n",
              "      \"xpos\": \"NNP\",\n",
              "      \"feats\": \"Number=Sing\",\n",
              "      \"head\": 1,\n",
              "      \"deprel\": \"flat\",\n",
              "      \"start_char\": 4,\n",
              "      \"end_char\": 14\n",
              "    },\n",
              "    {\n",
              "      \"id\": 3,\n",
              "      \"text\": \"teaches\",\n",
              "      \"lemma\": \"teach\",\n",
              "      \"upos\": \"VERB\",\n",
              "      \"xpos\": \"VBZ\",\n",
              "      \"feats\": \"Mood=Ind|Number=Sing|Person=3|Tense=Pres|VerbForm=Fin\",\n",
              "      \"head\": 0,\n",
              "      \"deprel\": \"root\",\n",
              "      \"start_char\": 15,\n",
              "      \"end_char\": 22\n",
              "    },\n",
              "    {\n",
              "      \"id\": 4,\n",
              "      \"text\": \"at\",\n",
              "      \"lemma\": \"at\",\n",
              "      \"upos\": \"ADP\",\n",
              "      \"xpos\": \"IN\",\n",
              "      \"head\": 6,\n",
              "      \"deprel\": \"case\",\n",
              "      \"start_char\": 23,\n",
              "      \"end_char\": 25\n",
              "    },\n",
              "    {\n",
              "      \"id\": 5,\n",
              "      \"text\": \"Stanford\",\n",
              "      \"lemma\": \"Stanford\",\n",
              "      \"upos\": \"PROPN\",\n",
              "      \"xpos\": \"NNP\",\n",
              "      \"feats\": \"Number=Sing\",\n",
              "      \"head\": 6,\n",
              "      \"deprel\": \"compound\",\n",
              "      \"start_char\": 26,\n",
              "      \"end_char\": 34\n",
              "    },\n",
              "    {\n",
              "      \"id\": 6,\n",
              "      \"text\": \"University\",\n",
              "      \"lemma\": \"University\",\n",
              "      \"upos\": \"PROPN\",\n",
              "      \"xpos\": \"NNP\",\n",
              "      \"feats\": \"Number=Sing\",\n",
              "      \"head\": 3,\n",
              "      \"deprel\": \"obl\",\n",
              "      \"start_char\": 35,\n",
              "      \"end_char\": 45\n",
              "    },\n",
              "    {\n",
              "      \"id\": 7,\n",
              "      \"text\": \",\",\n",
              "      \"lemma\": \",\",\n",
              "      \"upos\": \"PUNCT\",\n",
              "      \"xpos\": \",\",\n",
              "      \"head\": 9,\n",
              "      \"deprel\": \"punct\",\n",
              "      \"start_char\": 45,\n",
              "      \"end_char\": 46\n",
              "    },\n",
              "    {\n",
              "      \"id\": 8,\n",
              "      \"text\": \"he\",\n",
              "      \"lemma\": \"he\",\n",
              "      \"upos\": \"PRON\",\n",
              "      \"xpos\": \"PRP\",\n",
              "      \"feats\": \"Case=Nom|Gender=Masc|Number=Sing|Person=3|PronType=Prs\",\n",
              "      \"head\": 9,\n",
              "      \"deprel\": \"nsubj\",\n",
              "      \"start_char\": 47,\n",
              "      \"end_char\": 49\n",
              "    },\n",
              "    {\n",
              "      \"id\": 9,\n",
              "      \"text\": \"lives\",\n",
              "      \"lemma\": \"live\",\n",
              "      \"upos\": \"VERB\",\n",
              "      \"xpos\": \"VBZ\",\n",
              "      \"feats\": \"Mood=Ind|Number=Sing|Person=3|Tense=Pres|VerbForm=Fin\",\n",
              "      \"head\": 3,\n",
              "      \"deprel\": \"parataxis\",\n",
              "      \"start_char\": 50,\n",
              "      \"end_char\": 55\n",
              "    },\n",
              "    {\n",
              "      \"id\": 10,\n",
              "      \"text\": \"in\",\n",
              "      \"lemma\": \"in\",\n",
              "      \"upos\": \"ADP\",\n",
              "      \"xpos\": \"IN\",\n",
              "      \"head\": 13,\n",
              "      \"deprel\": \"case\",\n",
              "      \"start_char\": 56,\n",
              "      \"end_char\": 58\n",
              "    },\n",
              "    {\n",
              "      \"id\": 11,\n",
              "      \"text\": \"the\",\n",
              "      \"lemma\": \"the\",\n",
              "      \"upos\": \"DET\",\n",
              "      \"xpos\": \"DT\",\n",
              "      \"feats\": \"Definite=Def|PronType=Art\",\n",
              "      \"head\": 13,\n",
              "      \"deprel\": \"det\",\n",
              "      \"start_char\": 59,\n",
              "      \"end_char\": 62\n",
              "    },\n",
              "    {\n",
              "      \"id\": 12,\n",
              "      \"text\": \"Bay\",\n",
              "      \"lemma\": \"Bay\",\n",
              "      \"upos\": \"PROPN\",\n",
              "      \"xpos\": \"NNP\",\n",
              "      \"feats\": \"Number=Sing\",\n",
              "      \"head\": 13,\n",
              "      \"deprel\": \"compound\",\n",
              "      \"start_char\": 63,\n",
              "      \"end_char\": 66\n",
              "    },\n",
              "    {\n",
              "      \"id\": 13,\n",
              "      \"text\": \"Area\",\n",
              "      \"lemma\": \"Area\",\n",
              "      \"upos\": \"PROPN\",\n",
              "      \"xpos\": \"NNP\",\n",
              "      \"feats\": \"Number=Sing\",\n",
              "      \"head\": 9,\n",
              "      \"deprel\": \"obl\",\n",
              "      \"start_char\": 67,\n",
              "      \"end_char\": 71\n",
              "    },\n",
              "    {\n",
              "      \"id\": 14,\n",
              "      \"text\": \"and\",\n",
              "      \"lemma\": \"and\",\n",
              "      \"upos\": \"CCONJ\",\n",
              "      \"xpos\": \"CC\",\n",
              "      \"head\": 15,\n",
              "      \"deprel\": \"cc\",\n",
              "      \"start_char\": 72,\n",
              "      \"end_char\": 75\n",
              "    },\n",
              "    {\n",
              "      \"id\": 15,\n",
              "      \"text\": \"loves\",\n",
              "      \"lemma\": \"love\",\n",
              "      \"upos\": \"VERB\",\n",
              "      \"xpos\": \"VBZ\",\n",
              "      \"feats\": \"Mood=Ind|Number=Sing|Person=3|Tense=Pres|VerbForm=Fin\",\n",
              "      \"head\": 9,\n",
              "      \"deprel\": \"conj\",\n",
              "      \"start_char\": 76,\n",
              "      \"end_char\": 81\n",
              "    },\n",
              "    {\n",
              "      \"id\": 16,\n",
              "      \"text\": \"giraffes\",\n",
              "      \"lemma\": \"giraffe\",\n",
              "      \"upos\": \"NOUN\",\n",
              "      \"xpos\": \"NNS\",\n",
              "      \"feats\": \"Number=Plur\",\n",
              "      \"head\": 15,\n",
              "      \"deprel\": \"obj\",\n",
              "      \"start_char\": 82,\n",
              "      \"end_char\": 90\n",
              "    },\n",
              "    {\n",
              "      \"id\": 17,\n",
              "      \"text\": \"and\",\n",
              "      \"lemma\": \"and\",\n",
              "      \"upos\": \"CCONJ\",\n",
              "      \"xpos\": \"CC\",\n",
              "      \"head\": 19,\n",
              "      \"deprel\": \"cc\",\n",
              "      \"start_char\": 91,\n",
              "      \"end_char\": 94\n",
              "    },\n",
              "    {\n",
              "      \"id\": 18,\n",
              "      \"text\": \"towers\",\n",
              "      \"lemma\": \"tower\",\n",
              "      \"upos\": \"NOUN\",\n",
              "      \"xpos\": \"NNS\",\n",
              "      \"feats\": \"Number=Plur\",\n",
              "      \"head\": 19,\n",
              "      \"deprel\": \"compound\",\n",
              "      \"start_char\": 95,\n",
              "      \"end_char\": 101\n",
              "    },\n",
              "    {\n",
              "      \"id\": 19,\n",
              "      \"text\": \"bells\",\n",
              "      \"lemma\": \"bell\",\n",
              "      \"upos\": \"NOUN\",\n",
              "      \"xpos\": \"NNS\",\n",
              "      \"feats\": \"Number=Plur\",\n",
              "      \"head\": 16,\n",
              "      \"deprel\": \"conj\",\n",
              "      \"start_char\": 102,\n",
              "      \"end_char\": 107\n",
              "    },\n",
              "    {\n",
              "      \"id\": 20,\n",
              "      \"text\": \".\",\n",
              "      \"lemma\": \".\",\n",
              "      \"upos\": \"PUNCT\",\n",
              "      \"xpos\": \".\",\n",
              "      \"head\": 3,\n",
              "      \"deprel\": \"punct\",\n",
              "      \"start_char\": 107,\n",
              "      \"end_char\": 108\n",
              "    }\n",
              "  ]\n",
              "]"
            ]
          },
          "metadata": {},
          "execution_count": 167
        }
      ]
    },
    {
      "cell_type": "code",
      "source": [
        "list_of_nouns=[]\n",
        "for sent in doc.sentences:\n",
        "  for w in sent.words:\n",
        "    if w.upos in [\"NOUN\", \"PROPN\"]:\n",
        "      noun=w.text\n",
        "      # add additional word if compound \n",
        "      if w.deprel==\"compound\":\n",
        "        for w2 in sent.words:\n",
        "          if w2.id==w.head:\n",
        "            noun+=\" \"+w2.text\n",
        "      list_of_nouns.append(noun)\n",
        "  \n",
        "list_of_nouns"
      ],
      "metadata": {
        "colab": {
          "base_uri": "https://localhost:8080/"
        },
        "id": "HXgsfKD-mXEi",
        "outputId": "fa347432-1772-419b-eeff-3c1d7deb7807"
      },
      "execution_count": 168,
      "outputs": [
        {
          "output_type": "execute_result",
          "data": {
            "text/plain": [
              "['Max',\n",
              " 'Mustermann',\n",
              " 'Stanford University',\n",
              " 'University',\n",
              " 'Bay Area',\n",
              " 'Area',\n",
              " 'giraffes',\n",
              " 'towers bells',\n",
              " 'bells']"
            ]
          },
          "metadata": {},
          "execution_count": 168
        }
      ]
    },
    {
      "cell_type": "markdown",
      "source": [
        "## Term Extraction"
      ],
      "metadata": {
        "id": "y1QddQxQuQnq"
      }
    },
    {
      "cell_type": "markdown",
      "source": [
        "Lastly, we use automatic term extraction provided by the ELG Text2TCS library. This extracts all domain specific terms independent from their wordclass."
      ],
      "metadata": {
        "id": "UfA84jpSWor1"
      }
    },
    {
      "cell_type": "code",
      "source": [
        "!pip install elg"
      ],
      "metadata": {
        "colab": {
          "base_uri": "https://localhost:8080/"
        },
        "id": "RgZLF20mqYCx",
        "outputId": "c5f7bd1c-d670-44ee-d661-2c26accb6a5a"
      },
      "execution_count": 170,
      "outputs": [
        {
          "output_type": "stream",
          "name": "stdout",
          "text": [
            "Requirement already satisfied: elg in /usr/local/lib/python3.7/dist-packages (0.4.21)\n",
            "Requirement already satisfied: pydantic>=1.7.4 in /usr/local/lib/python3.7/dist-packages (from elg) (1.9.0)\n",
            "Requirement already satisfied: requests>=2.25 in /usr/local/lib/python3.7/dist-packages (from elg) (2.27.1)\n",
            "Requirement already satisfied: loguru>=0.5 in /usr/local/lib/python3.7/dist-packages (from elg) (0.6.0)\n",
            "Requirement already satisfied: pandas>=1.2 in /usr/local/lib/python3.7/dist-packages (from elg) (1.3.5)\n",
            "Requirement already satisfied: tqdm>=4.49 in /usr/local/lib/python3.7/dist-packages (from elg) (4.64.0)\n",
            "Requirement already satisfied: pytz>=2017.3 in /usr/local/lib/python3.7/dist-packages (from pandas>=1.2->elg) (2022.1)\n",
            "Requirement already satisfied: numpy>=1.17.3 in /usr/local/lib/python3.7/dist-packages (from pandas>=1.2->elg) (1.21.6)\n",
            "Requirement already satisfied: python-dateutil>=2.7.3 in /usr/local/lib/python3.7/dist-packages (from pandas>=1.2->elg) (2.8.2)\n",
            "Requirement already satisfied: typing-extensions>=3.7.4.3 in /usr/local/lib/python3.7/dist-packages (from pydantic>=1.7.4->elg) (4.2.0)\n",
            "Requirement already satisfied: six>=1.5 in /usr/local/lib/python3.7/dist-packages (from python-dateutil>=2.7.3->pandas>=1.2->elg) (1.15.0)\n",
            "Requirement already satisfied: charset-normalizer~=2.0.0 in /usr/local/lib/python3.7/dist-packages (from requests>=2.25->elg) (2.0.12)\n",
            "Requirement already satisfied: idna<4,>=2.5 in /usr/local/lib/python3.7/dist-packages (from requests>=2.25->elg) (2.10)\n",
            "Requirement already satisfied: certifi>=2017.4.17 in /usr/local/lib/python3.7/dist-packages (from requests>=2.25->elg) (2021.10.8)\n",
            "Requirement already satisfied: urllib3<1.27,>=1.21.1 in /usr/local/lib/python3.7/dist-packages (from requests>=2.25->elg) (1.24.3)\n"
          ]
        }
      ]
    },
    {
      "cell_type": "code",
      "source": [
        "from elg import Service\n",
        "service = Service.from_id(8122)\n",
        "result = service(request_input=\"Max Mustermann teaches at Stanford University, he lives in the Bay Area and loves giraffes and tower bells.\", request_type=\"text\")"
      ],
      "metadata": {
        "colab": {
          "base_uri": "https://localhost:8080/"
        },
        "id": "XcHTlBV3uU-c",
        "outputId": "1896c67b-016c-438a-f3c5-67e69beb562c"
      },
      "execution_count": 171,
      "outputs": [
        {
          "output_type": "stream",
          "name": "stdout",
          "text": [
            "Calling:\n",
            "\t[8122] Text to Terminological Concept System\n",
            "with request:\n",
            "\ttype: text - content: Max Mustermann teaches at Stanford University, he lives in the Bay Area and loves giraffes and tower bells. - mimeType: text/plain\n",
            "\n",
            "Progress: 44.4%\n",
            "Progress: 44.4%\n",
            "Progress: 100.0%\n",
            "Progress: 100.0%\n"
          ]
        }
      ]
    },
    {
      "cell_type": "code",
      "source": [
        "for c in result[\"annotations\"]:\n",
        "  print(c)"
      ],
      "metadata": {
        "colab": {
          "base_uri": "https://localhost:8080/"
        },
        "id": "Z_JUexDGuY4d",
        "outputId": "9860e169-71bc-406b-aae5-f1bc9c6194ca"
      },
      "execution_count": 172,
      "outputs": [
        {
          "output_type": "stream",
          "name": "stdout",
          "text": [
            "c1: teaches\n",
            "c2: Stanford University\n",
            "c3: Bay Area\n",
            "c4: giraffes\n",
            "c5: tower bells\n"
          ]
        }
      ]
    }
  ]
}